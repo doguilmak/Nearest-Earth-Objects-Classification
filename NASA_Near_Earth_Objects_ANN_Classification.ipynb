{
  "cells": [
    {
      "cell_type": "markdown",
      "id": "10f8ca13",
      "metadata": {
        "id": "10f8ca13"
      },
      "source": [
        "**<h1 align=center><font size = 5>Object Detection with Faster R-CNN</font></h1>**\n",
        "\n",
        "<br>\n",
        "\n",
        "<img src=\"https://www.techexplorist.com/wp-content/uploads/2021/12/NASAs-Eyes-on-Asteroids.jpg\" alt=\"Techexplorist\">\n",
        "\n",
        "<small>Picture Source:<a href=\"https://www.techexplorist.com/wp-content/uploads/2021/12/NASAs-Eyes-on-Asteroids.jpg\">Techexplorist</a>\n",
        "\n",
        "<br>\n",
        "\n",
        "<h3>Near-Earth Objects - NEO</h3>\n",
        "\n",
        "<p>Near-Earth objects (NEOs) are asteroids or comets of sizes ranging from metres to tens of kilometres that orbit the Sun and whose orbits come close to that of Earth’s. Of the more than 600 000 known asteroids in our Solar System, more than 20 000 are NEOs. An example of a NEO is 25143 Itokawa, an object about 300 m in diameter that was visited by the Japanese spacecraft Hayabusa in 2005.</p>\n",
        "\n",
        "<br>\n",
        "\n",
        "<h3>About NEOs</h3>\n",
        "\n",
        "<p>NEOs could potentially hit our planet and, depending on their size, produce considerable damage. While the chance of a large object hitting Earth is very small, it would produce a great deal of destruction. NEOs thus merit active detection and tracking efforts.</p>\n",
        "\n",
        "The goal of SSA’s NEO Segment (SSA-NEO) is to:\n",
        "\n",
        "<ul>\n",
        "    <li>Become aware of the current and future position of NEOs relative to our planet.</li>\n",
        "    <li>Estimate the likelihood of Earth impacts.</li>\n",
        "    <li>Assess the consequences of any possible impact.</li>\n",
        "    <li>Develop NEO deflection methods.</li>\n",
        "</ul> \n",
        "\n",
        "<p>The NEO Segment observes NEOs, predicts their orbits, produces impact warnings when necessary and is involved in potential mitigation measures.</p>\n",
        "\n",
        "<br>\n",
        "\n",
        "<h3>Context</h3>\n",
        "\n",
        "<p>There is an infinite number of objects in the outer space. Some of them are \n",
        "closer than we think. Even though we might think that a distance of 70,000 Km \n",
        "can not potentially harm us, but at an astronomical scale, this is a very small \n",
        "distance and can disrupt many natural phenomena. These objects/asteroids can \n",
        "thus prove to be harmful. Hence, it is wise to know what is surrounding us and \n",
        "what can harm us amongst those. Thus, this dataset compiles the list of <b>NASA</b> \n",
        "certified asteroids that are classified as the nearest earth object.<p>\n",
        "\n",
        "<br>\n",
        "\n",
        "<b>License</b>\n",
        "    \n",
        "CC0: Public Domain\n",
        "    \n",
        "<h3>Sources</h3>\n",
        "<ul>\n",
        "    <li><a href=\"https://api.nasa.gov/\">NASA Open API</a></li>\n",
        "    <li><a href=\"https://cneos.jpl.nasa.gov/ca/\">NEO Earth Close Approaches</a></li>\n",
        "    <li><a href=\"https://www.jpl.nasa.gov/news/twenty-years-of-tracking-near-earth-objects\">NASA/JPL-Caltech</a></li>\n",
        "    <li><a href=\"https://www.esa.int/Safety_Security/Near-Earth_Objects_-_NEO_Segment#:~:text=Near%2DEarth%20objects%20(NEOs),than%2020%20000%20are%20NEOs.\">ESA Near-Earth Objects - NEO Segment</a></li>"
      ]
    },
    {
      "cell_type": "markdown",
      "id": "75ea2f34",
      "metadata": {
        "id": "75ea2f34"
      },
      "source": [
        "<hr>\n",
        "\n",
        "# Objective for this Notebook\n",
        "\n",
        "Within the scope of this project, a classification model was builded whether NEOs are dangerous or not, through data obtained from NASA.\n",
        "\n",
        "<div class=\"alert alert-block alert-info\" style=\"margin-top: 20px\">\n",
        "<li><a href=\"https://#library\">Importing Libraries</a></li>\n",
        "<li><a href=\"https://#data_preprocessing\">Data Preprocessing</a></li>\n",
        "<li><a href=\"https://#ann\">Building Artificial Neural Network Model for Classification</a></li>\n",
        "\n",
        "<br>\n",
        "<p></p>\n",
        "Estimated Time Needed: <strong>10 min</strong>\n",
        "</div>\n",
        "\n",
        "<hr>"
      ]
    },
    {
      "cell_type": "markdown",
      "id": "dd8e47b1",
      "metadata": {
        "id": "dd8e47b1"
      },
      "source": [
        "<a id=\"library\"></a>\n",
        "\n",
        "<h2 align=center>Importing Libraries</h2>"
      ]
    },
    {
      "cell_type": "code",
      "execution_count": null,
      "id": "784bdf44",
      "metadata": {
        "id": "784bdf44"
      },
      "outputs": [],
      "source": [
        "import matplotlib.pyplot as plt\n",
        "import seaborn as sns\n",
        "import matplotlib.patheffects as path_effects\n",
        "import pandas as pd\n",
        "import keras\n",
        "from keras.models import Sequential\n",
        "from keras.layers import Dense\n",
        "import time\n",
        "import warnings\n",
        "warnings.filterwarnings('ignore')"
      ]
    },
    {
      "cell_type": "code",
      "execution_count": null,
      "id": "0e8617bf",
      "metadata": {
        "id": "0e8617bf",
        "outputId": "e94a8d05-a27a-4f10-84fa-cefd8588b1c4"
      },
      "outputs": [
        {
          "data": {
            "text/plain": [
              "'2.7.0'"
            ]
          },
          "execution_count": 2,
          "metadata": {},
          "output_type": "execute_result"
        }
      ],
      "source": [
        "keras.__version__"
      ]
    },
    {
      "cell_type": "code",
      "execution_count": null,
      "id": "f89748b1",
      "metadata": {
        "id": "f89748b1",
        "outputId": "df637608-a7cd-4e38-b481-1ed405d8a9f6"
      },
      "outputs": [
        {
          "data": {
            "text/plain": [
              "'1.3.4'"
            ]
          },
          "execution_count": 3,
          "metadata": {},
          "output_type": "execute_result"
        }
      ],
      "source": [
        "pd.__version__"
      ]
    },
    {
      "cell_type": "code",
      "execution_count": null,
      "id": "531bdb01",
      "metadata": {
        "id": "531bdb01",
        "outputId": "b80fa769-5356-4cce-c2b1-56f80ffe6c64"
      },
      "outputs": [
        {
          "data": {
            "text/plain": [
              "'0.11.2'"
            ]
          },
          "execution_count": 4,
          "metadata": {},
          "output_type": "execute_result"
        }
      ],
      "source": [
        "sns.__version__"
      ]
    },
    {
      "cell_type": "markdown",
      "id": "9203185d",
      "metadata": {
        "id": "9203185d"
      },
      "source": [
        "<a id=\"data_preprocessing\"></a>\n",
        "\n",
        "<h2 align=center>Data Preprocessing</h2>\n",
        "\n",
        "<p>Data preprocessing can refer to manipulation or dropping of data before it is used in order to ensure or enhance performance, and is an important step in the data mining process. The phrase \"garbage in, garbage out\" is particularly applicable to data mining and machine learning projects.</p>"
      ]
    },
    {
      "cell_type": "markdown",
      "id": "1912d631",
      "metadata": {
        "id": "1912d631"
      },
      "source": [
        "### 2.1. Uploading data"
      ]
    },
    {
      "cell_type": "code",
      "execution_count": null,
      "id": "fea3d975",
      "metadata": {
        "id": "fea3d975"
      },
      "outputs": [],
      "source": [
        "start = time.time()"
      ]
    },
    {
      "cell_type": "code",
      "execution_count": null,
      "id": "a3fd6741",
      "metadata": {
        "id": "a3fd6741"
      },
      "outputs": [],
      "source": [
        "df = pd.read_csv('neo.csv')\n",
        "HAZARDOUS=df['hazardous']"
      ]
    },
    {
      "cell_type": "code",
      "execution_count": null,
      "id": "429686da",
      "metadata": {
        "id": "429686da",
        "outputId": "5babd2c6-d506-427b-d335-0d3f01f52af6"
      },
      "outputs": [
        {
          "data": {
            "text/html": [
              "<div>\n",
              "<style scoped>\n",
              "    .dataframe tbody tr th:only-of-type {\n",
              "        vertical-align: middle;\n",
              "    }\n",
              "\n",
              "    .dataframe tbody tr th {\n",
              "        vertical-align: top;\n",
              "    }\n",
              "\n",
              "    .dataframe thead th {\n",
              "        text-align: right;\n",
              "    }\n",
              "</style>\n",
              "<table border=\"1\" class=\"dataframe\">\n",
              "  <thead>\n",
              "    <tr style=\"text-align: right;\">\n",
              "      <th></th>\n",
              "      <th>id</th>\n",
              "      <th>name</th>\n",
              "      <th>est_diameter_min</th>\n",
              "      <th>est_diameter_max</th>\n",
              "      <th>relative_velocity</th>\n",
              "      <th>miss_distance</th>\n",
              "      <th>orbiting_body</th>\n",
              "      <th>sentry_object</th>\n",
              "      <th>absolute_magnitude</th>\n",
              "      <th>hazardous</th>\n",
              "    </tr>\n",
              "  </thead>\n",
              "  <tbody>\n",
              "    <tr>\n",
              "      <th>0</th>\n",
              "      <td>2162635</td>\n",
              "      <td>162635 (2000 SS164)</td>\n",
              "      <td>1.198271</td>\n",
              "      <td>2.679415</td>\n",
              "      <td>13569.249224</td>\n",
              "      <td>5.483974e+07</td>\n",
              "      <td>Earth</td>\n",
              "      <td>False</td>\n",
              "      <td>16.73</td>\n",
              "      <td>False</td>\n",
              "    </tr>\n",
              "    <tr>\n",
              "      <th>1</th>\n",
              "      <td>2277475</td>\n",
              "      <td>277475 (2005 WK4)</td>\n",
              "      <td>0.265800</td>\n",
              "      <td>0.594347</td>\n",
              "      <td>73588.726663</td>\n",
              "      <td>6.143813e+07</td>\n",
              "      <td>Earth</td>\n",
              "      <td>False</td>\n",
              "      <td>20.00</td>\n",
              "      <td>True</td>\n",
              "    </tr>\n",
              "    <tr>\n",
              "      <th>2</th>\n",
              "      <td>2512244</td>\n",
              "      <td>512244 (2015 YE18)</td>\n",
              "      <td>0.722030</td>\n",
              "      <td>1.614507</td>\n",
              "      <td>114258.692129</td>\n",
              "      <td>4.979872e+07</td>\n",
              "      <td>Earth</td>\n",
              "      <td>False</td>\n",
              "      <td>17.83</td>\n",
              "      <td>False</td>\n",
              "    </tr>\n",
              "    <tr>\n",
              "      <th>3</th>\n",
              "      <td>3596030</td>\n",
              "      <td>(2012 BV13)</td>\n",
              "      <td>0.096506</td>\n",
              "      <td>0.215794</td>\n",
              "      <td>24764.303138</td>\n",
              "      <td>2.543497e+07</td>\n",
              "      <td>Earth</td>\n",
              "      <td>False</td>\n",
              "      <td>22.20</td>\n",
              "      <td>False</td>\n",
              "    </tr>\n",
              "    <tr>\n",
              "      <th>4</th>\n",
              "      <td>3667127</td>\n",
              "      <td>(2014 GE35)</td>\n",
              "      <td>0.255009</td>\n",
              "      <td>0.570217</td>\n",
              "      <td>42737.733765</td>\n",
              "      <td>4.627557e+07</td>\n",
              "      <td>Earth</td>\n",
              "      <td>False</td>\n",
              "      <td>20.09</td>\n",
              "      <td>True</td>\n",
              "    </tr>\n",
              "    <tr>\n",
              "      <th>5</th>\n",
              "      <td>54138696</td>\n",
              "      <td>(2021 GY23)</td>\n",
              "      <td>0.036354</td>\n",
              "      <td>0.081291</td>\n",
              "      <td>34297.587778</td>\n",
              "      <td>4.058569e+07</td>\n",
              "      <td>Earth</td>\n",
              "      <td>False</td>\n",
              "      <td>24.32</td>\n",
              "      <td>False</td>\n",
              "    </tr>\n",
              "    <tr>\n",
              "      <th>6</th>\n",
              "      <td>54189957</td>\n",
              "      <td>(2021 PY40)</td>\n",
              "      <td>0.171615</td>\n",
              "      <td>0.383743</td>\n",
              "      <td>27529.472307</td>\n",
              "      <td>2.906912e+07</td>\n",
              "      <td>Earth</td>\n",
              "      <td>False</td>\n",
              "      <td>20.95</td>\n",
              "      <td>False</td>\n",
              "    </tr>\n",
              "    <tr>\n",
              "      <th>7</th>\n",
              "      <td>54230078</td>\n",
              "      <td>(2021 XD6)</td>\n",
              "      <td>0.005328</td>\n",
              "      <td>0.011914</td>\n",
              "      <td>57544.470083</td>\n",
              "      <td>5.511502e+07</td>\n",
              "      <td>Earth</td>\n",
              "      <td>False</td>\n",
              "      <td>28.49</td>\n",
              "      <td>False</td>\n",
              "    </tr>\n",
              "    <tr>\n",
              "      <th>8</th>\n",
              "      <td>2088213</td>\n",
              "      <td>88213 (2001 AF2)</td>\n",
              "      <td>0.350393</td>\n",
              "      <td>0.783502</td>\n",
              "      <td>56625.210122</td>\n",
              "      <td>6.903598e+07</td>\n",
              "      <td>Earth</td>\n",
              "      <td>False</td>\n",
              "      <td>19.40</td>\n",
              "      <td>False</td>\n",
              "    </tr>\n",
              "    <tr>\n",
              "      <th>9</th>\n",
              "      <td>3766065</td>\n",
              "      <td>(2016 YM)</td>\n",
              "      <td>0.105817</td>\n",
              "      <td>0.236614</td>\n",
              "      <td>48425.840329</td>\n",
              "      <td>3.835526e+07</td>\n",
              "      <td>Earth</td>\n",
              "      <td>False</td>\n",
              "      <td>22.00</td>\n",
              "      <td>False</td>\n",
              "    </tr>\n",
              "  </tbody>\n",
              "</table>\n",
              "</div>"
            ],
            "text/plain": [
              "         id                 name  est_diameter_min  est_diameter_max  \\\n",
              "0   2162635  162635 (2000 SS164)          1.198271          2.679415   \n",
              "1   2277475    277475 (2005 WK4)          0.265800          0.594347   \n",
              "2   2512244   512244 (2015 YE18)          0.722030          1.614507   \n",
              "3   3596030          (2012 BV13)          0.096506          0.215794   \n",
              "4   3667127          (2014 GE35)          0.255009          0.570217   \n",
              "5  54138696          (2021 GY23)          0.036354          0.081291   \n",
              "6  54189957          (2021 PY40)          0.171615          0.383743   \n",
              "7  54230078           (2021 XD6)          0.005328          0.011914   \n",
              "8   2088213     88213 (2001 AF2)          0.350393          0.783502   \n",
              "9   3766065            (2016 YM)          0.105817          0.236614   \n",
              "\n",
              "   relative_velocity  miss_distance orbiting_body  sentry_object  \\\n",
              "0       13569.249224   5.483974e+07         Earth          False   \n",
              "1       73588.726663   6.143813e+07         Earth          False   \n",
              "2      114258.692129   4.979872e+07         Earth          False   \n",
              "3       24764.303138   2.543497e+07         Earth          False   \n",
              "4       42737.733765   4.627557e+07         Earth          False   \n",
              "5       34297.587778   4.058569e+07         Earth          False   \n",
              "6       27529.472307   2.906912e+07         Earth          False   \n",
              "7       57544.470083   5.511502e+07         Earth          False   \n",
              "8       56625.210122   6.903598e+07         Earth          False   \n",
              "9       48425.840329   3.835526e+07         Earth          False   \n",
              "\n",
              "   absolute_magnitude  hazardous  \n",
              "0               16.73      False  \n",
              "1               20.00       True  \n",
              "2               17.83      False  \n",
              "3               22.20      False  \n",
              "4               20.09       True  \n",
              "5               24.32      False  \n",
              "6               20.95      False  \n",
              "7               28.49      False  \n",
              "8               19.40      False  \n",
              "9               22.00      False  "
            ]
          },
          "execution_count": 7,
          "metadata": {},
          "output_type": "execute_result"
        }
      ],
      "source": [
        "df.head(10)"
      ]
    },
    {
      "cell_type": "code",
      "execution_count": null,
      "id": "52ada76b",
      "metadata": {
        "id": "52ada76b",
        "outputId": "695d0491-708e-4bf6-9c90-acbc9f04f438"
      },
      "outputs": [
        {
          "data": {
            "text/plain": [
              "0        False\n",
              "1         True\n",
              "2        False\n",
              "3        False\n",
              "4         True\n",
              "         ...  \n",
              "90831    False\n",
              "90832    False\n",
              "90833    False\n",
              "90834    False\n",
              "90835    False\n",
              "Name: hazardous, Length: 90836, dtype: bool"
            ]
          },
          "execution_count": 8,
          "metadata": {},
          "output_type": "execute_result"
        }
      ],
      "source": [
        "HAZARDOUS"
      ]
    },
    {
      "cell_type": "markdown",
      "id": "4232869f",
      "metadata": {
        "id": "4232869f"
      },
      "source": [
        "### 2.2. Removing unnecessary columns\n",
        "\n",
        "<p>As we can see, there is only 1 unique value in <code>orbiting_body</code> and <code>sentry_object</code>. Because of that, we are dropping there columns. In addition, we don't need to use id and name parameters.</p>"
      ]
    },
    {
      "cell_type": "code",
      "execution_count": null,
      "id": "982aea20",
      "metadata": {
        "id": "982aea20",
        "outputId": "8174b259-4f64-4005-a380-7d0798156c33"
      },
      "outputs": [
        {
          "data": {
            "text/plain": [
              "Earth    90836\n",
              "Name: orbiting_body, dtype: int64"
            ]
          },
          "execution_count": 9,
          "metadata": {},
          "output_type": "execute_result"
        }
      ],
      "source": [
        "df['orbiting_body'].value_counts()"
      ]
    },
    {
      "cell_type": "code",
      "execution_count": null,
      "id": "37072dda",
      "metadata": {
        "id": "37072dda",
        "outputId": "d28ba598-cfcb-4e7c-bd23-f97f1fb8d147"
      },
      "outputs": [
        {
          "data": {
            "text/plain": [
              "False    90836\n",
              "Name: sentry_object, dtype: int64"
            ]
          },
          "execution_count": 10,
          "metadata": {},
          "output_type": "execute_result"
        }
      ],
      "source": [
        "df['sentry_object'].value_counts()"
      ]
    },
    {
      "cell_type": "code",
      "execution_count": null,
      "id": "a47ba48f",
      "metadata": {
        "id": "a47ba48f"
      },
      "outputs": [],
      "source": [
        "df.drop(['orbiting_body', 'sentry_object', 'id', 'name'], axis = 1, inplace = True)"
      ]
    },
    {
      "cell_type": "markdown",
      "id": "deb76d22",
      "metadata": {
        "id": "deb76d22"
      },
      "source": [
        "### 2.3. Looking for anomalies and duplicated datas\n",
        "\n",
        "<p>Dependent and independent variables, in other words, the data in the columns are checked for unspecified values.</p>"
      ]
    },
    {
      "cell_type": "code",
      "execution_count": null,
      "id": "011e0c46",
      "metadata": {
        "id": "011e0c46",
        "outputId": "2cba3bbb-5099-4039-932f-a75e8065b236"
      },
      "outputs": [
        {
          "data": {
            "text/plain": [
              "est_diameter_min      0\n",
              "est_diameter_max      0\n",
              "relative_velocity     0\n",
              "miss_distance         0\n",
              "absolute_magnitude    0\n",
              "hazardous             0\n",
              "dtype: int64"
            ]
          },
          "execution_count": 12,
          "metadata": {},
          "output_type": "execute_result"
        }
      ],
      "source": [
        "df.isnull().sum()"
      ]
    },
    {
      "cell_type": "markdown",
      "id": "747c5cd2",
      "metadata": {
        "id": "747c5cd2"
      },
      "source": [
        "Let's get first and last 10 rows."
      ]
    },
    {
      "cell_type": "code",
      "execution_count": null,
      "id": "0f426798",
      "metadata": {
        "id": "0f426798",
        "outputId": "fce3b8f0-1d1c-45cc-e28e-436d79219a79"
      },
      "outputs": [
        {
          "data": {
            "text/html": [
              "<div>\n",
              "<style scoped>\n",
              "    .dataframe tbody tr th:only-of-type {\n",
              "        vertical-align: middle;\n",
              "    }\n",
              "\n",
              "    .dataframe tbody tr th {\n",
              "        vertical-align: top;\n",
              "    }\n",
              "\n",
              "    .dataframe thead th {\n",
              "        text-align: right;\n",
              "    }\n",
              "</style>\n",
              "<table border=\"1\" class=\"dataframe\">\n",
              "  <thead>\n",
              "    <tr style=\"text-align: right;\">\n",
              "      <th></th>\n",
              "      <th>est_diameter_min</th>\n",
              "      <th>est_diameter_max</th>\n",
              "      <th>relative_velocity</th>\n",
              "      <th>miss_distance</th>\n",
              "      <th>absolute_magnitude</th>\n",
              "      <th>hazardous</th>\n",
              "    </tr>\n",
              "  </thead>\n",
              "  <tbody>\n",
              "    <tr>\n",
              "      <th>0</th>\n",
              "      <td>1.198271</td>\n",
              "      <td>2.679415</td>\n",
              "      <td>13569.249224</td>\n",
              "      <td>5.483974e+07</td>\n",
              "      <td>16.73</td>\n",
              "      <td>False</td>\n",
              "    </tr>\n",
              "    <tr>\n",
              "      <th>1</th>\n",
              "      <td>0.265800</td>\n",
              "      <td>0.594347</td>\n",
              "      <td>73588.726663</td>\n",
              "      <td>6.143813e+07</td>\n",
              "      <td>20.00</td>\n",
              "      <td>True</td>\n",
              "    </tr>\n",
              "    <tr>\n",
              "      <th>2</th>\n",
              "      <td>0.722030</td>\n",
              "      <td>1.614507</td>\n",
              "      <td>114258.692129</td>\n",
              "      <td>4.979872e+07</td>\n",
              "      <td>17.83</td>\n",
              "      <td>False</td>\n",
              "    </tr>\n",
              "    <tr>\n",
              "      <th>3</th>\n",
              "      <td>0.096506</td>\n",
              "      <td>0.215794</td>\n",
              "      <td>24764.303138</td>\n",
              "      <td>2.543497e+07</td>\n",
              "      <td>22.20</td>\n",
              "      <td>False</td>\n",
              "    </tr>\n",
              "    <tr>\n",
              "      <th>4</th>\n",
              "      <td>0.255009</td>\n",
              "      <td>0.570217</td>\n",
              "      <td>42737.733765</td>\n",
              "      <td>4.627557e+07</td>\n",
              "      <td>20.09</td>\n",
              "      <td>True</td>\n",
              "    </tr>\n",
              "    <tr>\n",
              "      <th>5</th>\n",
              "      <td>0.036354</td>\n",
              "      <td>0.081291</td>\n",
              "      <td>34297.587778</td>\n",
              "      <td>4.058569e+07</td>\n",
              "      <td>24.32</td>\n",
              "      <td>False</td>\n",
              "    </tr>\n",
              "    <tr>\n",
              "      <th>6</th>\n",
              "      <td>0.171615</td>\n",
              "      <td>0.383743</td>\n",
              "      <td>27529.472307</td>\n",
              "      <td>2.906912e+07</td>\n",
              "      <td>20.95</td>\n",
              "      <td>False</td>\n",
              "    </tr>\n",
              "    <tr>\n",
              "      <th>7</th>\n",
              "      <td>0.005328</td>\n",
              "      <td>0.011914</td>\n",
              "      <td>57544.470083</td>\n",
              "      <td>5.511502e+07</td>\n",
              "      <td>28.49</td>\n",
              "      <td>False</td>\n",
              "    </tr>\n",
              "    <tr>\n",
              "      <th>8</th>\n",
              "      <td>0.350393</td>\n",
              "      <td>0.783502</td>\n",
              "      <td>56625.210122</td>\n",
              "      <td>6.903598e+07</td>\n",
              "      <td>19.40</td>\n",
              "      <td>False</td>\n",
              "    </tr>\n",
              "    <tr>\n",
              "      <th>9</th>\n",
              "      <td>0.105817</td>\n",
              "      <td>0.236614</td>\n",
              "      <td>48425.840329</td>\n",
              "      <td>3.835526e+07</td>\n",
              "      <td>22.00</td>\n",
              "      <td>False</td>\n",
              "    </tr>\n",
              "  </tbody>\n",
              "</table>\n",
              "</div>"
            ],
            "text/plain": [
              "   est_diameter_min  est_diameter_max  relative_velocity  miss_distance  \\\n",
              "0          1.198271          2.679415       13569.249224   5.483974e+07   \n",
              "1          0.265800          0.594347       73588.726663   6.143813e+07   \n",
              "2          0.722030          1.614507      114258.692129   4.979872e+07   \n",
              "3          0.096506          0.215794       24764.303138   2.543497e+07   \n",
              "4          0.255009          0.570217       42737.733765   4.627557e+07   \n",
              "5          0.036354          0.081291       34297.587778   4.058569e+07   \n",
              "6          0.171615          0.383743       27529.472307   2.906912e+07   \n",
              "7          0.005328          0.011914       57544.470083   5.511502e+07   \n",
              "8          0.350393          0.783502       56625.210122   6.903598e+07   \n",
              "9          0.105817          0.236614       48425.840329   3.835526e+07   \n",
              "\n",
              "   absolute_magnitude  hazardous  \n",
              "0               16.73      False  \n",
              "1               20.00       True  \n",
              "2               17.83      False  \n",
              "3               22.20      False  \n",
              "4               20.09       True  \n",
              "5               24.32      False  \n",
              "6               20.95      False  \n",
              "7               28.49      False  \n",
              "8               19.40      False  \n",
              "9               22.00      False  "
            ]
          },
          "execution_count": 13,
          "metadata": {},
          "output_type": "execute_result"
        }
      ],
      "source": [
        "df.head(10)"
      ]
    },
    {
      "cell_type": "code",
      "execution_count": null,
      "id": "30cbe199",
      "metadata": {
        "id": "30cbe199",
        "outputId": "58f2f6b3-b58c-4fbb-eab3-35ca05fadc26"
      },
      "outputs": [
        {
          "data": {
            "text/html": [
              "<div>\n",
              "<style scoped>\n",
              "    .dataframe tbody tr th:only-of-type {\n",
              "        vertical-align: middle;\n",
              "    }\n",
              "\n",
              "    .dataframe tbody tr th {\n",
              "        vertical-align: top;\n",
              "    }\n",
              "\n",
              "    .dataframe thead th {\n",
              "        text-align: right;\n",
              "    }\n",
              "</style>\n",
              "<table border=\"1\" class=\"dataframe\">\n",
              "  <thead>\n",
              "    <tr style=\"text-align: right;\">\n",
              "      <th></th>\n",
              "      <th>est_diameter_min</th>\n",
              "      <th>est_diameter_max</th>\n",
              "      <th>relative_velocity</th>\n",
              "      <th>miss_distance</th>\n",
              "      <th>absolute_magnitude</th>\n",
              "      <th>hazardous</th>\n",
              "    </tr>\n",
              "  </thead>\n",
              "  <tbody>\n",
              "    <tr>\n",
              "      <th>90826</th>\n",
              "      <td>0.086807</td>\n",
              "      <td>0.194106</td>\n",
              "      <td>45322.795023</td>\n",
              "      <td>4.095345e+07</td>\n",
              "      <td>22.43</td>\n",
              "      <td>False</td>\n",
              "    </tr>\n",
              "    <tr>\n",
              "      <th>90827</th>\n",
              "      <td>0.024692</td>\n",
              "      <td>0.055213</td>\n",
              "      <td>14655.044804</td>\n",
              "      <td>1.766750e+07</td>\n",
              "      <td>25.16</td>\n",
              "      <td>False</td>\n",
              "    </tr>\n",
              "    <tr>\n",
              "      <th>90828</th>\n",
              "      <td>0.036691</td>\n",
              "      <td>0.082043</td>\n",
              "      <td>26172.119254</td>\n",
              "      <td>2.249368e+06</td>\n",
              "      <td>24.30</td>\n",
              "      <td>False</td>\n",
              "    </tr>\n",
              "    <tr>\n",
              "      <th>90829</th>\n",
              "      <td>0.123184</td>\n",
              "      <td>0.275448</td>\n",
              "      <td>80671.310009</td>\n",
              "      <td>6.897365e+07</td>\n",
              "      <td>21.67</td>\n",
              "      <td>False</td>\n",
              "    </tr>\n",
              "    <tr>\n",
              "      <th>90830</th>\n",
              "      <td>0.069913</td>\n",
              "      <td>0.156329</td>\n",
              "      <td>38102.469622</td>\n",
              "      <td>4.667988e+07</td>\n",
              "      <td>22.90</td>\n",
              "      <td>False</td>\n",
              "    </tr>\n",
              "    <tr>\n",
              "      <th>90831</th>\n",
              "      <td>0.026580</td>\n",
              "      <td>0.059435</td>\n",
              "      <td>52078.886692</td>\n",
              "      <td>1.230039e+07</td>\n",
              "      <td>25.00</td>\n",
              "      <td>False</td>\n",
              "    </tr>\n",
              "    <tr>\n",
              "      <th>90832</th>\n",
              "      <td>0.016771</td>\n",
              "      <td>0.037501</td>\n",
              "      <td>46114.605073</td>\n",
              "      <td>5.432121e+07</td>\n",
              "      <td>26.00</td>\n",
              "      <td>False</td>\n",
              "    </tr>\n",
              "    <tr>\n",
              "      <th>90833</th>\n",
              "      <td>0.031956</td>\n",
              "      <td>0.071456</td>\n",
              "      <td>7566.807732</td>\n",
              "      <td>2.840077e+07</td>\n",
              "      <td>24.60</td>\n",
              "      <td>False</td>\n",
              "    </tr>\n",
              "    <tr>\n",
              "      <th>90834</th>\n",
              "      <td>0.007321</td>\n",
              "      <td>0.016370</td>\n",
              "      <td>69199.154484</td>\n",
              "      <td>6.869206e+07</td>\n",
              "      <td>27.80</td>\n",
              "      <td>False</td>\n",
              "    </tr>\n",
              "    <tr>\n",
              "      <th>90835</th>\n",
              "      <td>0.039862</td>\n",
              "      <td>0.089133</td>\n",
              "      <td>27024.455553</td>\n",
              "      <td>5.977213e+07</td>\n",
              "      <td>24.12</td>\n",
              "      <td>False</td>\n",
              "    </tr>\n",
              "  </tbody>\n",
              "</table>\n",
              "</div>"
            ],
            "text/plain": [
              "       est_diameter_min  est_diameter_max  relative_velocity  miss_distance  \\\n",
              "90826          0.086807          0.194106       45322.795023   4.095345e+07   \n",
              "90827          0.024692          0.055213       14655.044804   1.766750e+07   \n",
              "90828          0.036691          0.082043       26172.119254   2.249368e+06   \n",
              "90829          0.123184          0.275448       80671.310009   6.897365e+07   \n",
              "90830          0.069913          0.156329       38102.469622   4.667988e+07   \n",
              "90831          0.026580          0.059435       52078.886692   1.230039e+07   \n",
              "90832          0.016771          0.037501       46114.605073   5.432121e+07   \n",
              "90833          0.031956          0.071456        7566.807732   2.840077e+07   \n",
              "90834          0.007321          0.016370       69199.154484   6.869206e+07   \n",
              "90835          0.039862          0.089133       27024.455553   5.977213e+07   \n",
              "\n",
              "       absolute_magnitude  hazardous  \n",
              "90826               22.43      False  \n",
              "90827               25.16      False  \n",
              "90828               24.30      False  \n",
              "90829               21.67      False  \n",
              "90830               22.90      False  \n",
              "90831               25.00      False  \n",
              "90832               26.00      False  \n",
              "90833               24.60      False  \n",
              "90834               27.80      False  \n",
              "90835               24.12      False  "
            ]
          },
          "execution_count": 14,
          "metadata": {},
          "output_type": "execute_result"
        }
      ],
      "source": [
        "df.tail(10)"
      ]
    },
    {
      "cell_type": "markdown",
      "id": "2a768ee0",
      "metadata": {
        "id": "2a768ee0"
      },
      "source": [
        "Now, let's get description of the data in the DataFrame."
      ]
    },
    {
      "cell_type": "code",
      "execution_count": null,
      "id": "268ced44",
      "metadata": {
        "id": "268ced44",
        "outputId": "9963cb57-2152-4b50-843b-94230b157031"
      },
      "outputs": [
        {
          "data": {
            "text/html": [
              "<div>\n",
              "<style scoped>\n",
              "    .dataframe tbody tr th:only-of-type {\n",
              "        vertical-align: middle;\n",
              "    }\n",
              "\n",
              "    .dataframe tbody tr th {\n",
              "        vertical-align: top;\n",
              "    }\n",
              "\n",
              "    .dataframe thead th {\n",
              "        text-align: right;\n",
              "    }\n",
              "</style>\n",
              "<table border=\"1\" class=\"dataframe\">\n",
              "  <thead>\n",
              "    <tr style=\"text-align: right;\">\n",
              "      <th></th>\n",
              "      <th>count</th>\n",
              "      <th>mean</th>\n",
              "      <th>std</th>\n",
              "      <th>min</th>\n",
              "      <th>25%</th>\n",
              "      <th>50%</th>\n",
              "      <th>75%</th>\n",
              "      <th>max</th>\n",
              "    </tr>\n",
              "  </thead>\n",
              "  <tbody>\n",
              "    <tr>\n",
              "      <th>est_diameter_min</th>\n",
              "      <td>90836.0</td>\n",
              "      <td>1.274321e-01</td>\n",
              "      <td>2.985112e-01</td>\n",
              "      <td>0.000609</td>\n",
              "      <td>1.925551e-02</td>\n",
              "      <td>4.836765e-02</td>\n",
              "      <td>1.434019e-01</td>\n",
              "      <td>3.789265e+01</td>\n",
              "    </tr>\n",
              "    <tr>\n",
              "      <th>est_diameter_max</th>\n",
              "      <td>90836.0</td>\n",
              "      <td>2.849469e-01</td>\n",
              "      <td>6.674914e-01</td>\n",
              "      <td>0.001362</td>\n",
              "      <td>4.305662e-02</td>\n",
              "      <td>1.081534e-01</td>\n",
              "      <td>3.206564e-01</td>\n",
              "      <td>8.473054e+01</td>\n",
              "    </tr>\n",
              "    <tr>\n",
              "      <th>relative_velocity</th>\n",
              "      <td>90836.0</td>\n",
              "      <td>4.806692e+04</td>\n",
              "      <td>2.529330e+04</td>\n",
              "      <td>203.346433</td>\n",
              "      <td>2.861902e+04</td>\n",
              "      <td>4.419012e+04</td>\n",
              "      <td>6.292360e+04</td>\n",
              "      <td>2.369901e+05</td>\n",
              "    </tr>\n",
              "    <tr>\n",
              "      <th>miss_distance</th>\n",
              "      <td>90836.0</td>\n",
              "      <td>3.706655e+07</td>\n",
              "      <td>2.235204e+07</td>\n",
              "      <td>6745.532516</td>\n",
              "      <td>1.721082e+07</td>\n",
              "      <td>3.784658e+07</td>\n",
              "      <td>5.654900e+07</td>\n",
              "      <td>7.479865e+07</td>\n",
              "    </tr>\n",
              "    <tr>\n",
              "      <th>absolute_magnitude</th>\n",
              "      <td>90836.0</td>\n",
              "      <td>2.352710e+01</td>\n",
              "      <td>2.894086e+00</td>\n",
              "      <td>9.230000</td>\n",
              "      <td>2.134000e+01</td>\n",
              "      <td>2.370000e+01</td>\n",
              "      <td>2.570000e+01</td>\n",
              "      <td>3.320000e+01</td>\n",
              "    </tr>\n",
              "  </tbody>\n",
              "</table>\n",
              "</div>"
            ],
            "text/plain": [
              "                      count          mean           std          min  \\\n",
              "est_diameter_min    90836.0  1.274321e-01  2.985112e-01     0.000609   \n",
              "est_diameter_max    90836.0  2.849469e-01  6.674914e-01     0.001362   \n",
              "relative_velocity   90836.0  4.806692e+04  2.529330e+04   203.346433   \n",
              "miss_distance       90836.0  3.706655e+07  2.235204e+07  6745.532516   \n",
              "absolute_magnitude  90836.0  2.352710e+01  2.894086e+00     9.230000   \n",
              "\n",
              "                             25%           50%           75%           max  \n",
              "est_diameter_min    1.925551e-02  4.836765e-02  1.434019e-01  3.789265e+01  \n",
              "est_diameter_max    4.305662e-02  1.081534e-01  3.206564e-01  8.473054e+01  \n",
              "relative_velocity   2.861902e+04  4.419012e+04  6.292360e+04  2.369901e+05  \n",
              "miss_distance       1.721082e+07  3.784658e+07  5.654900e+07  7.479865e+07  \n",
              "absolute_magnitude  2.134000e+01  2.370000e+01  2.570000e+01  3.320000e+01  "
            ]
          },
          "execution_count": 15,
          "metadata": {},
          "output_type": "execute_result"
        }
      ],
      "source": [
        "df.describe().T"
      ]
    },
    {
      "cell_type": "markdown",
      "id": "d98f2cb1",
      "metadata": {
        "id": "d98f2cb1"
      },
      "source": [
        "Check number of duplicated rows with <code>duplicated().sum()</code>."
      ]
    },
    {
      "cell_type": "code",
      "execution_count": null,
      "id": "60900bdf",
      "metadata": {
        "id": "60900bdf",
        "outputId": "9f789f32-fcc0-4dde-9ed1-36146440f838"
      },
      "outputs": [
        {
          "data": {
            "text/plain": [
              "7"
            ]
          },
          "execution_count": 16,
          "metadata": {},
          "output_type": "execute_result"
        }
      ],
      "source": [
        "df.duplicated().sum()"
      ]
    },
    {
      "cell_type": "markdown",
      "id": "3e5b7474",
      "metadata": {
        "id": "3e5b7474"
      },
      "source": [
        "Drop duplicated rows."
      ]
    },
    {
      "cell_type": "code",
      "execution_count": null,
      "id": "31f90b99",
      "metadata": {
        "id": "31f90b99"
      },
      "outputs": [],
      "source": [
        "dp = df[df.duplicated(keep=False)]\n",
        "dp.head(2)\n",
        "df.drop_duplicates(inplace= True)"
      ]
    },
    {
      "cell_type": "markdown",
      "id": "a2182d40",
      "metadata": {
        "id": "a2182d40"
      },
      "source": [
        "Done!"
      ]
    },
    {
      "cell_type": "code",
      "execution_count": null,
      "id": "dc5f5a32",
      "metadata": {
        "id": "dc5f5a32",
        "outputId": "78430326-a544-4d69-a7de-1224fb765e34"
      },
      "outputs": [
        {
          "data": {
            "text/plain": [
              "0"
            ]
          },
          "execution_count": 18,
          "metadata": {},
          "output_type": "execute_result"
        }
      ],
      "source": [
        "df.duplicated().sum()"
      ]
    },
    {
      "cell_type": "markdown",
      "id": "b70b13e6",
      "metadata": {
        "id": "b70b13e6"
      },
      "source": [
        "Let's print a concise summary of our DataFrame."
      ]
    },
    {
      "cell_type": "code",
      "execution_count": null,
      "id": "36a9ec41",
      "metadata": {
        "id": "36a9ec41",
        "outputId": "f3dc48ec-804a-434a-9041-23ab27a40d51"
      },
      "outputs": [
        {
          "name": "stdout",
          "output_type": "stream",
          "text": [
            "<class 'pandas.core.frame.DataFrame'>\n",
            "Int64Index: 90829 entries, 0 to 90835\n",
            "Data columns (total 6 columns):\n",
            " #   Column              Non-Null Count  Dtype  \n",
            "---  ------              --------------  -----  \n",
            " 0   est_diameter_min    90829 non-null  float64\n",
            " 1   est_diameter_max    90829 non-null  float64\n",
            " 2   relative_velocity   90829 non-null  float64\n",
            " 3   miss_distance       90829 non-null  float64\n",
            " 4   absolute_magnitude  90829 non-null  float64\n",
            " 5   hazardous           90829 non-null  bool   \n",
            "dtypes: bool(1), float64(5)\n",
            "memory usage: 4.2 MB\n"
          ]
        }
      ],
      "source": [
        "df.info()"
      ]
    },
    {
      "cell_type": "markdown",
      "id": "5c5ec54f",
      "metadata": {
        "id": "5c5ec54f"
      },
      "source": [
        "We can see number of unique values and it self in our independent variables with <code>.value_counts()</code>"
      ]
    },
    {
      "cell_type": "code",
      "execution_count": null,
      "id": "1d7e4649",
      "metadata": {
        "id": "1d7e4649",
        "outputId": "3595ec93-aa17-4488-a581-033f9ba9775b"
      },
      "outputs": [
        {
          "data": {
            "text/plain": [
              "False    81996\n",
              "True      8840\n",
              "Name: hazardous, dtype: int64"
            ]
          },
          "execution_count": 20,
          "metadata": {},
          "output_type": "execute_result"
        }
      ],
      "source": [
        "HAZARDOUS.value_counts()"
      ]
    },
    {
      "cell_type": "markdown",
      "id": "7d971fa1",
      "metadata": {
        "id": "7d971fa1"
      },
      "source": [
        "Find the unique elements of an array with <code>.unique()</code>"
      ]
    },
    {
      "cell_type": "code",
      "execution_count": null,
      "id": "3fe50f49",
      "metadata": {
        "id": "3fe50f49",
        "outputId": "e08ed7fe-1892-4125-9c09-5dea851ee227"
      },
      "outputs": [
        {
          "data": {
            "text/plain": [
              "array([False,  True])"
            ]
          },
          "execution_count": 21,
          "metadata": {},
          "output_type": "execute_result"
        }
      ],
      "source": [
        "HAZARDOUS.unique()"
      ]
    },
    {
      "cell_type": "markdown",
      "id": "8a79ddef",
      "metadata": {
        "id": "8a79ddef"
      },
      "source": [
        "### 2.4. Plotting\n",
        "\n",
        "<p>Plots were created in order to gain a different perspective on values and provide visuality.<p>"
      ]
    },
    {
      "cell_type": "code",
      "execution_count": null,
      "id": "a93ab796",
      "metadata": {
        "id": "a93ab796",
        "outputId": "74bfe12b-8469-425d-c19c-dfd7ed129815"
      },
      "outputs": [
        {
          "data": {
            "image/png": "[encoded data removed]",
            "text/plain": [
              "<Figure size 720x720 with 1 Axes>"
            ]
          },
          "metadata": {},
          "output_type": "display_data"
        }
      ],
      "source": [
        "explode = (0, 0.1)\n",
        "fig = plt.figure(figsize = (10, 10), facecolor='w')\n",
        "out_df=pd.DataFrame(df.groupby('hazardous')['hazardous'].count())\n",
        "\n",
        "patches, texts, autotexts = plt.pie(out_df['hazardous'], autopct='%1.1f%%',\n",
        "                                    textprops={'color': \"w\"},\n",
        "                                    explode=explode,\n",
        "                                    startangle=90, shadow=True)\n",
        "\n",
        "for patch in patches:\n",
        "    patch.set_path_effects({path_effects.Stroke(linewidth=2.5,\n",
        "                                                foreground='w')})\n",
        "\n",
        "plt.legend(labels=['False','True'], bbox_to_anchor=(1., .95))\n",
        "# plt.savefig('gender_pie')\n",
        "plt.show()"
      ]
    },
    {
      "cell_type": "code",
      "execution_count": null,
      "id": "31464118",
      "metadata": {
        "id": "31464118",
        "outputId": "f805572e-90cb-4c41-a589-1af9bc0134f2"
      },
      "outputs": [
        {
          "data": {
            "image/png": "[encoded data removed]",
            "text/plain": [
              "<Figure size 432x288 with 1 Axes>"
            ]
          },
          "metadata": {
            "needs_background": "light"
          },
          "output_type": "display_data"
        },
        {
          "data": {
            "image/png": "[encoded data removed]",
            "text/plain": [
              "<Figure size 432x288 with 1 Axes>"
            ]
          },
          "metadata": {
            "needs_background": "light"
          },
          "output_type": "display_data"
        },
        {
          "data": {
            "image/png": "[encoded data removed]",
            "text/plain": [
              "<Figure size 432x288 with 1 Axes>"
            ]
          },
          "metadata": {
            "needs_background": "light"
          },
          "output_type": "display_data"
        }
      ],
      "source": [
        "for i in range(3):\n",
        "  label = df.columns[i+2]\n",
        "  plt.hist(df[df['hazardous']==1][label], color='blue', label=\"True\", alpha=0.7, density=True, bins=15)\n",
        "  plt.hist(df[df['hazardous']==0][label], color='red', label=\"False\", alpha=0.7, density=True, bins=15)\n",
        "  plt.title(label)\n",
        "  plt.ylabel(\"Probability\")\n",
        "  plt.xlabel(label)\n",
        "  plt.legend()\n",
        "  plt.show()"
      ]
    },
    {
      "cell_type": "markdown",
      "id": "e6300d54",
      "metadata": {
        "id": "e6300d54"
      },
      "source": [
        "Creating correlation matrix heat map."
      ]
    },
    {
      "cell_type": "code",
      "execution_count": null,
      "id": "c121b898",
      "metadata": {
        "id": "c121b898",
        "outputId": "90c4d63c-e9e3-4c0d-84ec-e656caf839b0"
      },
      "outputs": [
        {
          "data": {
            "text/plain": [
              "<AxesSubplot:>"
            ]
          },
          "execution_count": 24,
          "metadata": {},
          "output_type": "execute_result"
        },
        {
          "data": {
            "image/png": "[encoded data removed]",
            "text/plain": [
              "<Figure size 864x432 with 2 Axes>"
            ]
          },
          "metadata": {
            "needs_background": "light"
          },
          "output_type": "display_data"
        }
      ],
      "source": [
        "plt.figure(figsize = (12, 6))\n",
        "sns.heatmap(df.corr(),annot = True)"
      ]
    },
    {
      "cell_type": "markdown",
      "id": "f767d2f5",
      "metadata": {
        "id": "f767d2f5"
      },
      "source": [
        "### 2.5. Label encoding\n",
        "\n",
        "<p> Building Label Encoding to handle categorical variables (for hazardous/label column).</p>"
      ]
    },
    {
      "cell_type": "code",
      "execution_count": null,
      "id": "4716014a",
      "metadata": {
        "id": "4716014a",
        "outputId": "c8afc910-7db0-4a71-c12b-5e33e9ce034e"
      },
      "outputs": [
        {
          "data": {
            "text/plain": [
              "array([0, 1], dtype=int64)"
            ]
          },
          "execution_count": 25,
          "metadata": {},
          "output_type": "execute_result"
        }
      ],
      "source": [
        "from sklearn.preprocessing import LabelEncoder\n",
        "label_encoder = LabelEncoder()\n",
        "label_encoder.fit(df['hazardous'])\n",
        "df['label'] = label_encoder.transform(df['hazardous'])\n",
        "df['label'].unique()"
      ]
    },
    {
      "cell_type": "markdown",
      "id": "efddf65a",
      "metadata": {
        "id": "efddf65a"
      },
      "source": [
        "Let's see what we have done;"
      ]
    },
    {
      "cell_type": "code",
      "execution_count": null,
      "id": "8c50f262",
      "metadata": {
        "id": "8c50f262",
        "outputId": "54c657ad-801c-49e9-fe61-b170528b0127"
      },
      "outputs": [
        {
          "data": {
            "text/html": [
              "<div>\n",
              "<style scoped>\n",
              "    .dataframe tbody tr th:only-of-type {\n",
              "        vertical-align: middle;\n",
              "    }\n",
              "\n",
              "    .dataframe tbody tr th {\n",
              "        vertical-align: top;\n",
              "    }\n",
              "\n",
              "    .dataframe thead th {\n",
              "        text-align: right;\n",
              "    }\n",
              "</style>\n",
              "<table border=\"1\" class=\"dataframe\">\n",
              "  <thead>\n",
              "    <tr style=\"text-align: right;\">\n",
              "      <th></th>\n",
              "      <th>est_diameter_min</th>\n",
              "      <th>est_diameter_max</th>\n",
              "      <th>relative_velocity</th>\n",
              "      <th>miss_distance</th>\n",
              "      <th>absolute_magnitude</th>\n",
              "      <th>hazardous</th>\n",
              "      <th>label</th>\n",
              "    </tr>\n",
              "  </thead>\n",
              "  <tbody>\n",
              "    <tr>\n",
              "      <th>0</th>\n",
              "      <td>1.198271</td>\n",
              "      <td>2.679415</td>\n",
              "      <td>13569.249224</td>\n",
              "      <td>5.483974e+07</td>\n",
              "      <td>16.73</td>\n",
              "      <td>False</td>\n",
              "      <td>0</td>\n",
              "    </tr>\n",
              "    <tr>\n",
              "      <th>1</th>\n",
              "      <td>0.265800</td>\n",
              "      <td>0.594347</td>\n",
              "      <td>73588.726663</td>\n",
              "      <td>6.143813e+07</td>\n",
              "      <td>20.00</td>\n",
              "      <td>True</td>\n",
              "      <td>1</td>\n",
              "    </tr>\n",
              "    <tr>\n",
              "      <th>2</th>\n",
              "      <td>0.722030</td>\n",
              "      <td>1.614507</td>\n",
              "      <td>114258.692129</td>\n",
              "      <td>4.979872e+07</td>\n",
              "      <td>17.83</td>\n",
              "      <td>False</td>\n",
              "      <td>0</td>\n",
              "    </tr>\n",
              "    <tr>\n",
              "      <th>3</th>\n",
              "      <td>0.096506</td>\n",
              "      <td>0.215794</td>\n",
              "      <td>24764.303138</td>\n",
              "      <td>2.543497e+07</td>\n",
              "      <td>22.20</td>\n",
              "      <td>False</td>\n",
              "      <td>0</td>\n",
              "    </tr>\n",
              "    <tr>\n",
              "      <th>4</th>\n",
              "      <td>0.255009</td>\n",
              "      <td>0.570217</td>\n",
              "      <td>42737.733765</td>\n",
              "      <td>4.627557e+07</td>\n",
              "      <td>20.09</td>\n",
              "      <td>True</td>\n",
              "      <td>1</td>\n",
              "    </tr>\n",
              "  </tbody>\n",
              "</table>\n",
              "</div>"
            ],
            "text/plain": [
              "   est_diameter_min  est_diameter_max  relative_velocity  miss_distance  \\\n",
              "0          1.198271          2.679415       13569.249224   5.483974e+07   \n",
              "1          0.265800          0.594347       73588.726663   6.143813e+07   \n",
              "2          0.722030          1.614507      114258.692129   4.979872e+07   \n",
              "3          0.096506          0.215794       24764.303138   2.543497e+07   \n",
              "4          0.255009          0.570217       42737.733765   4.627557e+07   \n",
              "\n",
              "   absolute_magnitude  hazardous  label  \n",
              "0               16.73      False      0  \n",
              "1               20.00       True      1  \n",
              "2               17.83      False      0  \n",
              "3               22.20      False      0  \n",
              "4               20.09       True      1  "
            ]
          },
          "execution_count": 26,
          "metadata": {},
          "output_type": "execute_result"
        }
      ],
      "source": [
        "df.head()"
      ]
    },
    {
      "cell_type": "markdown",
      "id": "82619b64",
      "metadata": {
        "id": "82619b64"
      },
      "source": [
        "We categorized the unique values in the hazardous column and transferred them to a different column named label."
      ]
    },
    {
      "cell_type": "markdown",
      "id": "8653f91e",
      "metadata": {
        "id": "8653f91e"
      },
      "source": [
        "### 2.6. Determination of dependent and independent variables\n",
        "\n",
        "<p>To build model and make prediction, we need to seperate our data as dependent and independent variables."
      ]
    },
    {
      "cell_type": "code",
      "execution_count": null,
      "id": "9e25d50a",
      "metadata": {
        "id": "9e25d50a"
      },
      "outputs": [],
      "source": [
        "X = df.drop([\"label\", \"hazardous\"], axis = 1)\n",
        "y = df[\"label\"]"
      ]
    },
    {
      "cell_type": "markdown",
      "id": "b3664892",
      "metadata": {
        "id": "b3664892"
      },
      "source": [
        "<b>Dependent variables</b>"
      ]
    },
    {
      "cell_type": "code",
      "execution_count": null,
      "id": "f5dce450",
      "metadata": {
        "id": "f5dce450",
        "outputId": "52f4181b-f0f8-426d-97f6-70be0dc64161"
      },
      "outputs": [
        {
          "data": {
            "text/html": [
              "<div>\n",
              "<style scoped>\n",
              "    .dataframe tbody tr th:only-of-type {\n",
              "        vertical-align: middle;\n",
              "    }\n",
              "\n",
              "    .dataframe tbody tr th {\n",
              "        vertical-align: top;\n",
              "    }\n",
              "\n",
              "    .dataframe thead th {\n",
              "        text-align: right;\n",
              "    }\n",
              "</style>\n",
              "<table border=\"1\" class=\"dataframe\">\n",
              "  <thead>\n",
              "    <tr style=\"text-align: right;\">\n",
              "      <th></th>\n",
              "      <th>est_diameter_min</th>\n",
              "      <th>est_diameter_max</th>\n",
              "      <th>relative_velocity</th>\n",
              "      <th>miss_distance</th>\n",
              "      <th>absolute_magnitude</th>\n",
              "    </tr>\n",
              "  </thead>\n",
              "  <tbody>\n",
              "    <tr>\n",
              "      <th>0</th>\n",
              "      <td>1.198271</td>\n",
              "      <td>2.679415</td>\n",
              "      <td>13569.249224</td>\n",
              "      <td>5.483974e+07</td>\n",
              "      <td>16.73</td>\n",
              "    </tr>\n",
              "    <tr>\n",
              "      <th>1</th>\n",
              "      <td>0.265800</td>\n",
              "      <td>0.594347</td>\n",
              "      <td>73588.726663</td>\n",
              "      <td>6.143813e+07</td>\n",
              "      <td>20.00</td>\n",
              "    </tr>\n",
              "    <tr>\n",
              "      <th>2</th>\n",
              "      <td>0.722030</td>\n",
              "      <td>1.614507</td>\n",
              "      <td>114258.692129</td>\n",
              "      <td>4.979872e+07</td>\n",
              "      <td>17.83</td>\n",
              "    </tr>\n",
              "    <tr>\n",
              "      <th>3</th>\n",
              "      <td>0.096506</td>\n",
              "      <td>0.215794</td>\n",
              "      <td>24764.303138</td>\n",
              "      <td>2.543497e+07</td>\n",
              "      <td>22.20</td>\n",
              "    </tr>\n",
              "    <tr>\n",
              "      <th>4</th>\n",
              "      <td>0.255009</td>\n",
              "      <td>0.570217</td>\n",
              "      <td>42737.733765</td>\n",
              "      <td>4.627557e+07</td>\n",
              "      <td>20.09</td>\n",
              "    </tr>\n",
              "    <tr>\n",
              "      <th>...</th>\n",
              "      <td>...</td>\n",
              "      <td>...</td>\n",
              "      <td>...</td>\n",
              "      <td>...</td>\n",
              "      <td>...</td>\n",
              "    </tr>\n",
              "    <tr>\n",
              "      <th>90831</th>\n",
              "      <td>0.026580</td>\n",
              "      <td>0.059435</td>\n",
              "      <td>52078.886692</td>\n",
              "      <td>1.230039e+07</td>\n",
              "      <td>25.00</td>\n",
              "    </tr>\n",
              "    <tr>\n",
              "      <th>90832</th>\n",
              "      <td>0.016771</td>\n",
              "      <td>0.037501</td>\n",
              "      <td>46114.605073</td>\n",
              "      <td>5.432121e+07</td>\n",
              "      <td>26.00</td>\n",
              "    </tr>\n",
              "    <tr>\n",
              "      <th>90833</th>\n",
              "      <td>0.031956</td>\n",
              "      <td>0.071456</td>\n",
              "      <td>7566.807732</td>\n",
              "      <td>2.840077e+07</td>\n",
              "      <td>24.60</td>\n",
              "    </tr>\n",
              "    <tr>\n",
              "      <th>90834</th>\n",
              "      <td>0.007321</td>\n",
              "      <td>0.016370</td>\n",
              "      <td>69199.154484</td>\n",
              "      <td>6.869206e+07</td>\n",
              "      <td>27.80</td>\n",
              "    </tr>\n",
              "    <tr>\n",
              "      <th>90835</th>\n",
              "      <td>0.039862</td>\n",
              "      <td>0.089133</td>\n",
              "      <td>27024.455553</td>\n",
              "      <td>5.977213e+07</td>\n",
              "      <td>24.12</td>\n",
              "    </tr>\n",
              "  </tbody>\n",
              "</table>\n",
              "<p>90829 rows × 5 columns</p>\n",
              "</div>"
            ],
            "text/plain": [
              "       est_diameter_min  est_diameter_max  relative_velocity  miss_distance  \\\n",
              "0              1.198271          2.679415       13569.249224   5.483974e+07   \n",
              "1              0.265800          0.594347       73588.726663   6.143813e+07   \n",
              "2              0.722030          1.614507      114258.692129   4.979872e+07   \n",
              "3              0.096506          0.215794       24764.303138   2.543497e+07   \n",
              "4              0.255009          0.570217       42737.733765   4.627557e+07   \n",
              "...                 ...               ...                ...            ...   \n",
              "90831          0.026580          0.059435       52078.886692   1.230039e+07   \n",
              "90832          0.016771          0.037501       46114.605073   5.432121e+07   \n",
              "90833          0.031956          0.071456        7566.807732   2.840077e+07   \n",
              "90834          0.007321          0.016370       69199.154484   6.869206e+07   \n",
              "90835          0.039862          0.089133       27024.455553   5.977213e+07   \n",
              "\n",
              "       absolute_magnitude  \n",
              "0                   16.73  \n",
              "1                   20.00  \n",
              "2                   17.83  \n",
              "3                   22.20  \n",
              "4                   20.09  \n",
              "...                   ...  \n",
              "90831               25.00  \n",
              "90832               26.00  \n",
              "90833               24.60  \n",
              "90834               27.80  \n",
              "90835               24.12  \n",
              "\n",
              "[90829 rows x 5 columns]"
            ]
          },
          "execution_count": 28,
          "metadata": {},
          "output_type": "execute_result"
        }
      ],
      "source": [
        "X"
      ]
    },
    {
      "cell_type": "markdown",
      "id": "c62367d0",
      "metadata": {
        "id": "c62367d0"
      },
      "source": [
        "<b>Independent variables</b>"
      ]
    },
    {
      "cell_type": "code",
      "execution_count": null,
      "id": "445149c6",
      "metadata": {
        "id": "445149c6",
        "outputId": "00fab8e4-cae7-44f5-8334-5e692e7740d3"
      },
      "outputs": [
        {
          "data": {
            "text/plain": [
              "0        0\n",
              "1        1\n",
              "2        0\n",
              "3        0\n",
              "4        1\n",
              "        ..\n",
              "90831    0\n",
              "90832    0\n",
              "90833    0\n",
              "90834    0\n",
              "90835    0\n",
              "Name: label, Length: 90829, dtype: int64"
            ]
          },
          "execution_count": 29,
          "metadata": {},
          "output_type": "execute_result"
        }
      ],
      "source": [
        "y"
      ]
    },
    {
      "cell_type": "markdown",
      "id": "4bf094de",
      "metadata": {
        "id": "4bf094de"
      },
      "source": [
        "### 2.7. Splitting test and train\n",
        "\n",
        "<p>The train-test split is a technique for evaluating the performance of a machine learning algorithm. Seperated %66.6 for train and %33.3 for test set.</p>"
      ]
    },
    {
      "cell_type": "code",
      "execution_count": null,
      "id": "875b7dda",
      "metadata": {
        "id": "875b7dda"
      },
      "outputs": [],
      "source": [
        "from sklearn.model_selection import train_test_split\n",
        "x_train, x_test, y_train, y_test = train_test_split(X, y, test_size=0.33, random_state=0)"
      ]
    },
    {
      "cell_type": "code",
      "execution_count": null,
      "id": "f83dbf9e",
      "metadata": {
        "id": "f83dbf9e",
        "outputId": "eb808af4-c734-4f9c-fd03-9fb709f3288a"
      },
      "outputs": [
        {
          "data": {
            "text/plain": [
              "(60855, 5)"
            ]
          },
          "execution_count": 31,
          "metadata": {},
          "output_type": "execute_result"
        }
      ],
      "source": [
        "x_train.shape"
      ]
    },
    {
      "cell_type": "code",
      "execution_count": null,
      "id": "6e3a3b0c",
      "metadata": {
        "id": "6e3a3b0c",
        "outputId": "48e704d8-1028-42db-a17d-157915007515"
      },
      "outputs": [
        {
          "data": {
            "text/plain": [
              "(60855,)"
            ]
          },
          "execution_count": 32,
          "metadata": {},
          "output_type": "execute_result"
        }
      ],
      "source": [
        "y_train.shape"
      ]
    },
    {
      "cell_type": "code",
      "execution_count": null,
      "id": "efcb02f2",
      "metadata": {
        "id": "efcb02f2",
        "outputId": "4809ad8d-e6db-4fb0-f7c5-f1bed918cc2e"
      },
      "outputs": [
        {
          "data": {
            "text/plain": [
              "(29974, 5)"
            ]
          },
          "execution_count": 33,
          "metadata": {},
          "output_type": "execute_result"
        }
      ],
      "source": [
        "x_test.shape"
      ]
    },
    {
      "cell_type": "code",
      "execution_count": null,
      "id": "1279c2e8",
      "metadata": {
        "id": "1279c2e8",
        "outputId": "c6a91da5-460f-40d6-8893-a71eb9f72d8c"
      },
      "outputs": [
        {
          "data": {
            "text/plain": [
              "(29974,)"
            ]
          },
          "execution_count": 34,
          "metadata": {},
          "output_type": "execute_result"
        }
      ],
      "source": [
        "y_test.shape"
      ]
    },
    {
      "cell_type": "markdown",
      "id": "a8c6ae91",
      "metadata": {
        "id": "a8c6ae91"
      },
      "source": [
        "### 2.8. Scaling datas\n",
        "\n",
        "<p>This means that you're transforming your data so that it fits within a specific scale like 0-1.</p>"
      ]
    },
    {
      "cell_type": "code",
      "execution_count": null,
      "id": "8cc5db2a",
      "metadata": {
        "id": "8cc5db2a"
      },
      "outputs": [],
      "source": [
        "from sklearn.preprocessing import StandardScaler\n",
        "sc=StandardScaler()\n",
        "\n",
        "X_train = sc.fit_transform(x_train)\n",
        "X_test = sc.transform(x_test) # Apply the trained"
      ]
    },
    {
      "cell_type": "markdown",
      "id": "84eeba0d",
      "metadata": {
        "id": "84eeba0d"
      },
      "source": [
        "<a id=\"ann\"></a>\n",
        "\n",
        "<h2 align=center>Building Artificial Neural Network Model for Classification</h2>\n",
        "\n",
        "<p>Artificial neural networks, usually simply called neural networks or, more simply yet, neural nets, are computing systems inspired by the biological neural networks that constitute animal brains. For more, please check <a href=\"https://en.wikipedia.org/wiki/Artificial_neural_network\">Wikipedia</a>.</p>"
      ]
    },
    {
      "cell_type": "markdown",
      "id": "756b19f1",
      "metadata": {
        "id": "756b19f1"
      },
      "source": [
        "We can directly import our model with keras function <code>load_model</code>."
      ]
    },
    {
      "cell_type": "markdown",
      "source": [
        "### 3.1 Loading Created Model"
      ],
      "metadata": {
        "id": "h9NKlHnN3lRS"
      },
      "id": "h9NKlHnN3lRS"
    },
    {
      "cell_type": "code",
      "source": [
        "from keras.models import load_model\n",
        "model = load_model('model.h5')"
      ],
      "metadata": {
        "id": "rUy-sBLi3qnw"
      },
      "id": "rUy-sBLi3qnw",
      "execution_count": null,
      "outputs": []
    },
    {
      "cell_type": "markdown",
      "source": [
        "### 3.2 Checking the Architecture of the Model"
      ],
      "metadata": {
        "id": "RN7r6yHq31_n"
      },
      "id": "RN7r6yHq31_n"
    },
    {
      "cell_type": "code",
      "source": [
        "model.summary()"
      ],
      "metadata": {
        "id": "2SlJRRgZ36gZ"
      },
      "id": "2SlJRRgZ36gZ",
      "execution_count": null,
      "outputs": []
    },
    {
      "cell_type": "markdown",
      "id": "cd422285",
      "metadata": {
        "id": "cd422285"
      },
      "source": [
        "### 3.3. Define neural network parameters\n",
        "\n",
        "<p>We have 5 dependent variables and we want 12 epochs in our model.</p>"
      ]
    },
    {
      "cell_type": "code",
      "execution_count": null,
      "id": "10376394",
      "metadata": {
        "id": "10376394"
      },
      "outputs": [],
      "source": [
        "INPUT = X.shape[1]\n",
        "EPOCHS = 12"
      ]
    },
    {
      "cell_type": "markdown",
      "id": "a98122a0",
      "metadata": {
        "id": "a98122a0"
      },
      "source": [
        "### 3.4. Building neural networks with 2 hidden layers (1st(32 neurons) and 2nd(16 neurons))."
      ]
    },
    {
      "cell_type": "code",
      "execution_count": null,
      "id": "e219c889",
      "metadata": {
        "id": "e219c889"
      },
      "outputs": [],
      "source": [
        "model = Sequential()\n",
        "\n",
        "# Creating first hidden layer:\n",
        "model.add(Dense(32, activation=\"relu\", input_dim=INPUT)) \n",
        "\n",
        "# Creating second hidden layer:\n",
        "model.add(Dense(16, activation=\"relu\"))  \n",
        "\n",
        "# Creating output layer:\n",
        "model.add(Dense(1, activation=\"sigmoid\"))"
      ]
    },
    {
      "cell_type": "markdown",
      "id": "565fa21c",
      "metadata": {
        "id": "565fa21c"
      },
      "source": [
        "### 3.5. Training\n",
        "\n",
        "<p>Let's fit and train our model.</p>"
      ]
    },
    {
      "cell_type": "code",
      "execution_count": null,
      "id": "a0f55155",
      "metadata": {
        "id": "a0f55155",
        "outputId": "d6a28b83-4b1c-4279-f595-452d64197df6"
      },
      "outputs": [
        {
          "name": "stdout",
          "output_type": "stream",
          "text": [
            "Epoch 1/12\n",
            "1902/1902 [==============================] - 5s 2ms/step - loss: 0.2078 - accuracy: 0.9063\n",
            "Epoch 2/12\n",
            "1902/1902 [==============================] - 4s 2ms/step - loss: 0.1874 - accuracy: 0.9116\n",
            "Epoch 3/12\n",
            "1902/1902 [==============================] - 3s 2ms/step - loss: 0.1859 - accuracy: 0.9117\n",
            "Epoch 4/12\n",
            "1902/1902 [==============================] - 4s 2ms/step - loss: 0.1850 - accuracy: 0.9119\n",
            "Epoch 5/12\n",
            "1902/1902 [==============================] - 3s 2ms/step - loss: 0.1846 - accuracy: 0.9120\n",
            "Epoch 6/12\n",
            "1902/1902 [==============================] - 4s 2ms/step - loss: 0.1841 - accuracy: 0.9124\n",
            "Epoch 7/12\n",
            "1902/1902 [==============================] - 4s 2ms/step - loss: 0.1837 - accuracy: 0.9125\n",
            "Epoch 8/12\n",
            "1902/1902 [==============================] - 4s 2ms/step - loss: 0.1836 - accuracy: 0.9125\n",
            "Epoch 9/12\n",
            "1902/1902 [==============================] - 4s 2ms/step - loss: 0.1833 - accuracy: 0.9126\n",
            "Epoch 10/12\n",
            "1902/1902 [==============================] - 4s 2ms/step - loss: 0.1831 - accuracy: 0.9129\n",
            "Epoch 11/12\n",
            "1902/1902 [==============================] - 4s 2ms/step - loss: 0.1829 - accuracy: 0.9132\n",
            "Epoch 12/12\n",
            "1902/1902 [==============================] - 4s 2ms/step - loss: 0.1826 - accuracy: 0.9132\n"
          ]
        }
      ],
      "source": [
        "model.compile(optimizer=\"adam\", loss=\"binary_crossentropy\", metrics=[\"accuracy\"])  \n",
        "model_history = model.fit(X_train, y_train, epochs=EPOCHS)"
      ]
    },
    {
      "cell_type": "markdown",
      "id": "a213e697",
      "metadata": {
        "id": "a213e697"
      },
      "source": [
        "### 3.6. Show summary and save model\n",
        "\n",
        "<p>Let's save our model for further predictions and see summary of our model.</p>"
      ]
    },
    {
      "cell_type": "code",
      "execution_count": null,
      "id": "3696a26b",
      "metadata": {
        "id": "3696a26b",
        "outputId": "da41bf3f-614b-4483-d1a6-a89ae3226a5c"
      },
      "outputs": [
        {
          "name": "stdout",
          "output_type": "stream",
          "text": [
            "dict_keys(['loss', 'accuracy'])\n",
            "Model: \"sequential\"\n",
            "_________________________________________________________________\n",
            " Layer (type)                Output Shape              Param #   \n",
            "=================================================================\n",
            " dense (Dense)               (None, 32)                192       \n",
            "                                                                 \n",
            " dense_1 (Dense)             (None, 16)                528       \n",
            "                                                                 \n",
            " dense_2 (Dense)             (None, 1)                 17        \n",
            "                                                                 \n",
            "=================================================================\n",
            "Total params: 737\n",
            "Trainable params: 737\n",
            "Non-trainable params: 0\n",
            "_________________________________________________________________\n"
          ]
        }
      ],
      "source": [
        "print(model_history.history.keys())\n",
        "model.summary()\n",
        "model.save('model_jn.h5')"
      ]
    },
    {
      "cell_type": "markdown",
      "id": "af89a2f5",
      "metadata": {
        "id": "af89a2f5"
      },
      "source": [
        "### 3.7. Plot loss and accuracy"
      ]
    },
    {
      "cell_type": "code",
      "execution_count": null,
      "id": "cf92b5a7",
      "metadata": {
        "id": "cf92b5a7",
        "outputId": "258e2681-0bb1-4034-cc2b-3217ef558fde"
      },
      "outputs": [
        {
          "data": {
            "image/png": "[encoded data removed]",
            "text/plain": [
              "<Figure size 432x288 with 2 Axes>"
            ]
          },
          "metadata": {
            "needs_background": "light"
          },
          "output_type": "display_data"
        }
      ],
      "source": [
        "def plot_accuracy_loss(training_results):\n",
        "    plt.subplot(2, 1, 1)\n",
        "    plt.plot(training_results.history['loss'], 'r')\n",
        "    plt.ylabel('Loss')\n",
        "    plt.title('Training loss iterations')\n",
        "    plt.subplot(2, 1, 2)\n",
        "    plt.plot(training_results.history['accuracy'])\n",
        "    plt.ylabel('Accuracy')\n",
        "    plt.xlabel('Epochs')\n",
        "    plt.show()\n",
        "    \n",
        "plot_accuracy_loss(model_history)"
      ]
    },
    {
      "cell_type": "markdown",
      "id": "61300c87",
      "metadata": {
        "id": "61300c87"
      },
      "source": [
        "### 3.8. System success"
      ]
    },
    {
      "cell_type": "code",
      "execution_count": null,
      "id": "6374bdcb",
      "metadata": {
        "id": "6374bdcb",
        "outputId": "fc561c14-c2e6-4cc6-b217-f4c8c72bde9e"
      },
      "outputs": [
        {
          "name": "stdout",
          "output_type": "stream",
          "text": [
            "\n",
            "Confusion Matrix:\n",
            " [[26844   224]\n",
            " [ 2427   479]]\n",
            "\n",
            "Accuracy score: 0.9115566824581304\n",
            "\n",
            "Building model for NASA - Nearest Earth Objects data set took 54.67812538146973 seconds.\n"
          ]
        }
      ],
      "source": [
        "y_pred = model.predict(X_test)\n",
        "y_pred = (y_pred > 0.5)\n",
        "\n",
        "from sklearn.metrics import confusion_matrix\n",
        "cm = confusion_matrix(y_test, y_pred)  #  Comparing results\n",
        "print(\"\\nConfusion Matrix:\\n\", cm)\n",
        "\n",
        "from sklearn.metrics import accuracy_score\n",
        "print(f\"\\nAccuracy score: {accuracy_score(y_test, y_pred)}\")\n",
        "\n",
        "end = time.time()\n",
        "cal_time = end - start\n",
        "print(\"\\nBuilding model for NASA - Nearest Earth Objects data set took {} seconds.\".format(cal_time))"
      ]
    }
  ],
  "metadata": {
    "kernelspec": {
      "display_name": "Python 3 (ipykernel)",
      "language": "python",
      "name": "python3"
    },
    "language_info": {
      "codemirror_mode": {
        "name": "ipython",
        "version": 3
      },
      "file_extension": ".py",
      "mimetype": "text/x-python",
      "name": "python",
      "nbconvert_exporter": "python",
      "pygments_lexer": "ipython3",
      "version": "3.9.7"
    },
    "colab": {
      "provenance": [],
      "collapsed_sections": []
    }
  },
  "nbformat": 4,
  "nbformat_minor": 5
}